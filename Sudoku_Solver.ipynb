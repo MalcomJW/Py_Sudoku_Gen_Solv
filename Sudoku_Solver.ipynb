{
 "cells": [
  {
   "cell_type": "code",
   "execution_count": null,
   "id": "075e4501",
   "metadata": {},
   "outputs": [
    {
     "name": "stdout",
     "output_type": "stream",
     "text": [
      "[[5 3 0 0 7 0 0 0 0]\n",
      " [6 0 0 1 9 5 0 0 0]\n",
      " [0 9 8 0 0 0 0 6 0]\n",
      " [8 0 0 0 6 0 0 0 3]\n",
      " [4 0 0 8 0 3 0 0 1]\n",
      " [7 0 0 0 2 0 0 0 6]\n",
      " [0 6 0 0 0 0 2 8 0]\n",
      " [0 0 0 0 1 9 0 0 5]\n",
      " [0 0 0 0 0 0 0 0 0]]\n",
      "[[5 3 4 6 7 8 1 9 2]\n",
      " [6 7 2 1 9 5 3 4 8]\n",
      " [1 9 8 3 4 2 5 6 7]\n",
      " [8 5 9 7 6 1 4 2 3]\n",
      " [4 2 6 8 5 3 9 7 1]\n",
      " [7 1 3 9 2 4 8 5 6]\n",
      " [9 6 1 5 3 7 2 8 4]\n",
      " [2 8 7 4 1 9 6 3 5]\n",
      " [3 4 5 2 8 6 7 1 9]]\n"
     ]
    }
   ],
   "source": [
    "#naieve algorithm Sudoko\n",
    "#back tracking\n",
    "\n",
    "# 9x9 81\n",
    "\n",
    "\n",
    "import numpy as np\n",
    "import random\n",
    "\n",
    "\n",
    "#import your grid here\n",
    "grid = [[5,3,0,0,7,0,0,0,0],\n",
    "        [6,0,0,1,9,5,0,0,0],\n",
    "        [0,9,8,0,0,0,0,6,0],\n",
    "        [8,0,0,0,6,0,0,0,3],\n",
    "        [4,0,0,8,0,3,0,0,1],\n",
    "        [7,0,0,0,2,0,0,0,6],\n",
    "        [0,6,0,0,0,0,2,8,0],\n",
    "        [0,0,0,0,1,9,0,0,5],\n",
    "        [0,0,0,0,0,0,0,0,0]]\n",
    "\n",
    "print(np.matrix(grid))\n",
    "\n",
    "def possible(row, column, number):\n",
    "    global grid #going to look at grid oustide of the function\n",
    "    #is the nubmer apparing in the row\n",
    "    for i in range(0, 9):\n",
    "        if grid[row][i] == number: #checking rows horizontally. If a number appears we give FALSE\n",
    "            return False\n",
    "    #is the number appearing in the column\n",
    "    for i in range(0, 9):\n",
    "        if grid[i][column] == number: #we're checking the column verically. If it appears we give FALSE\n",
    "            return False\n",
    "    #is the number appearing in a given spot\n",
    "    x0 = (column // 3) * 3\n",
    "    y0 = (row // 3) * 3\n",
    "    for i in range(0, 3):\n",
    "        for j in range(0, 3):\n",
    "            if grid[y0+i][x0+j] == number:\n",
    "                return False\n",
    "            \n",
    "    return True\n",
    "\n",
    "#backtracking\n",
    "def solve():\n",
    "    global grid #allows us mod the grid outside of the function\n",
    "    for row in range(0, 9):\n",
    "        for column in range(0, 9):\n",
    "            if grid[row][column] == 0:\n",
    "                for number in range(1, 10):\n",
    "                    if possible(row, column, number):\n",
    "                        grid[row][column] = number\n",
    "                        solve()\n",
    "                        grid[row][column] = 0\n",
    "                return\n",
    "    print(np.matrix(grid))\n",
    "    input('more possible options')\n",
    "\n",
    "solve()\n",
    "print()"
   ]
  },
  {
   "cell_type": "code",
   "execution_count": null,
   "id": "b45578b5",
   "metadata": {},
   "outputs": [],
   "source": []
  }
 ],
 "metadata": {
  "kernelspec": {
   "display_name": "Python 3 (ipykernel)",
   "language": "python",
   "name": "python3"
  },
  "language_info": {
   "codemirror_mode": {
    "name": "ipython",
    "version": 3
   },
   "file_extension": ".py",
   "mimetype": "text/x-python",
   "name": "python",
   "nbconvert_exporter": "python",
   "pygments_lexer": "ipython3",
   "version": "3.11.5"
  }
 },
 "nbformat": 4,
 "nbformat_minor": 5
}
